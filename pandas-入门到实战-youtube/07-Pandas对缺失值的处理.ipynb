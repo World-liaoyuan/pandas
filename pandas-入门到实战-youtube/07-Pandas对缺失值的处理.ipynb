{
 "cells": [
  {
   "cell_type": "markdown",
   "id": "58421e12",
   "metadata": {},
   "source": [
    "### Pandas对缺失值的处理\n",
    "pandas主要使用函数进行处理缺失值\n",
    "- isnull和notnull，监测是否为空值，可用于df和Series\n",
    "- drop:丢弃、删除缺失值\n",
    "    - axis:删除行还是列 1是columns\n",
    "    - how: any任何为空都删除， all所有为空才删除\n",
    "    - inplace：原地转换\n",
    "- fillna：填充空值\n",
    "    - value: 用于填充的值，可以是单个，也可以是字典\n",
    "    - method：等于ffill, bfill\n",
    "    - axis: 行还是列填充\n",
    "    - inplace: 如果为True修改当前df"
   ]
  },
  {
   "cell_type": "code",
   "execution_count": 2,
   "id": "3433d534",
   "metadata": {},
   "outputs": [],
   "source": [
    "import pandas as pd"
   ]
  },
  {
   "cell_type": "code",
   "execution_count": null,
   "id": "25747cf8",
   "metadata": {},
   "outputs": [],
   "source": [
    "# 读取csv\n"
   ]
  }
 ],
 "metadata": {
  "kernelspec": {
   "display_name": "Python 3 (ipykernel)",
   "language": "python",
   "name": "python3"
  },
  "language_info": {
   "codemirror_mode": {
    "name": "ipython",
    "version": 3
   },
   "file_extension": ".py",
   "mimetype": "text/x-python",
   "name": "python",
   "nbconvert_exporter": "python",
   "pygments_lexer": "ipython3",
   "version": "3.9.13"
  },
  "toc": {
   "base_numbering": 1,
   "nav_menu": {},
   "number_sections": true,
   "sideBar": true,
   "skip_h1_title": false,
   "title_cell": "Table of Contents",
   "title_sidebar": "Contents",
   "toc_cell": false,
   "toc_position": {},
   "toc_section_display": true,
   "toc_window_display": false
  }
 },
 "nbformat": 4,
 "nbformat_minor": 5
}
